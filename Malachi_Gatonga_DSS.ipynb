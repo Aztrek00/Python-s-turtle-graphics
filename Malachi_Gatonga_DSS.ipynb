{
  "nbformat": 4,
  "nbformat_minor": 0,
  "metadata": {
    "colab": {
      "provenance": [],
      "include_colab_link": true
    },
    "kernelspec": {
      "name": "python3",
      "display_name": "Python 3"
    },
    "language_info": {
      "name": "python"
    }
  },
  "cells": [
    {
      "cell_type": "markdown",
      "metadata": {
        "id": "view-in-github",
        "colab_type": "text"
      },
      "source": [
        "<a href=\"https://colab.research.google.com/github/Aztrek00/Python-s-turtle-graphics/blob/main/Malachi_Gatonga_DSS.ipynb\" target=\"_parent\"><img src=\"https://colab.research.google.com/assets/colab-badge.svg\" alt=\"Open In Colab\"/></a>"
      ]
    },
    {
      "cell_type": "markdown",
      "source": [
        "# Data Science Technical Assessment\n",
        "Duration: 2 hours\n",
        "\n",
        "\n",
        "## Setup\n",
        "You will be working with two datasets representing e-commerce data:\n",
        "- `customers.csv`: Customer demographic and subscription information\n",
        "- `transactions.csv`: Historical transaction records\n",
        "\n",
        "\n",
        "## Part 1: Exploratory Data Analysis (25 minutes)\n",
        "1. Load and examine both datasets\n",
        "2. Identify and handle any data quality issues you find\n",
        "3. Create a summary of key metrics and patterns you discover\n",
        "4. Document any assumptions or decisions you make during this process\n",
        "\n",
        "\n",
        "## Part 2: Customer Analysis (35 minutes)\n",
        "Your goal is to help the business understand its customer base better.\n",
        "\n",
        "\n",
        "1. Develop a customer segmentation approach using the available data\n",
        "2. Calculate customer lifetime value (CLV) for each customer\n",
        "3. Create at least one visualization that reveals meaningful insights about the customer segments\n",
        "4. Write a brief (2-3 paragraphs) summary of your findings for business stakeholders\n",
        "\n",
        "\n",
        "## Part 3: Sales Performance Analysis (35 minutes)\n",
        "The business wants to understand sales patterns and identify opportunities for growth.\n",
        "\n",
        "\n",
        "1. Analyze sales trends over time, considering factors like:\n",
        "   - Seasonal patterns\n",
        "   - Product performance\n",
        "   - Geographic distribution\n",
        "2. Identify and investigate any anomalies in the transaction data\n",
        "3. Create a visualization dashboard (minimum 2 plots) that would be useful for business leaders\n",
        "4. Propose three actionable recommendations based on your analysis\n",
        "\n",
        "\n",
        "## Part 4: Open-ended Challenge (25 minutes)\n",
        "Choose ONE of the following challenges:\n",
        "\n",
        "\n",
        "A. Predictive Analytics\n",
        "- Build a simple model to predict customer churn risk\n",
        "- Explain your feature selection and methodology\n",
        "\n",
        "\n",
        "B. Product Analysis\n",
        "- Identify product affinities and purchasing patterns\n",
        "- Recommend a strategy for product bundling or promotions\n",
        "\n",
        "\n",
        "C. Customer Engagement Strategy\n",
        "- Analyze the relationship between subscription types and purchasing behavior\n",
        "- Propose a data-driven strategy for upgrading customers to premium subscriptions\n",
        "\n",
        "\n",
        "## Evaluation Criteria\n",
        "- Code quality and organization\n",
        "- Problem-solving approach\n",
        "- Business acumen and insight generation\n",
        "- Communication of findings\n",
        "- Creative thinking and initiative\n",
        "- Technical proficiency\n",
        "\n",
        "\n",
        "## Submission Guidelines\n",
        "1. Submit your code as a Jupyter notebook or Python scripts\n",
        "2. Include comments explaining your thought process\n",
        "3. Provide a brief README explaining how to run your code\n",
        "4. Include any assumptions or limitations of your analysis\n",
        "5. Submit in the following format - firstname_lastname_dss.ipynb\n",
        "6. Do not code on this file directly - create a new notebook by saving a copy in your drive.\n",
        "\n",
        "\n",
        "## Notes\n",
        "- Feel free to use any Python libraries you're comfortable with\n",
        "- Quality is more important than quantity\n",
        "- Document any additional data you would request in a real-world scenario"
      ],
      "metadata": {
        "id": "2fQ7Wvnj5ye7"
      }
    },
    {
      "cell_type": "markdown",
      "source": [
        "# **PART 1: Exploratory Data Analysis**\n",
        "1.   Loading and examination of both datasets is done.\n",
        "\n",
        "\n"
      ],
      "metadata": {
        "id": "E4L0OoGgeZtR"
      }
    },
    {
      "cell_type": "code",
      "source": [
        "import pandas as pd\n",
        "import numpy as np\n",
        "\n",
        "#Loading of Datasets\n",
        "customers_df = pd.read_csv(\"customers.csv\")\n",
        "transactions_df = pd.read_csv(\"transactions.csv\")\n",
        "\n",
        "# Examination\n",
        "print(\"----- Customers Data -----\")\n",
        "print(customers_df.head())\n",
        "print(customers_df.info())\n",
        "print(customers_df.describe(include='all')) #include all to see stats for categoricals\n",
        "print(\"\\n----- Transactions Data -----\")\n",
        "print(transactions_df.head())\n",
        "print(transactions_df.info())\n",
        "print(transactions_df.describe(include = 'all')) #include all to see stats for categoricals"
      ],
      "metadata": {
        "id": "hLk_tnEudQES"
      },
      "execution_count": 4,
      "outputs": []
    },
    {
      "cell_type": "markdown",
      "source": [
        " Identifying and handling any data quality issues found."
      ],
      "metadata": {
        "id": "YdgwRjDagY84"
      }
    },
    {
      "cell_type": "code",
      "source": [
        "# ------ Data Quality Issues ------\n",
        "print(\"\\n--- Customers Data Quality Checks ---\")\n",
        "print(\"Missing values:\\n\", customers_df.isnull().sum())\n",
        "print(\"Duplicate rows:\", customers_df.duplicated().sum())\n",
        "\n",
        "print(\"\\n--- Transactions Data Quality Checks ---\")\n",
        "print(\"Missing values:\\n\", transactions_df.isnull().sum())\n",
        "print(\"Duplicate rows:\", transactions_df.duplicated().sum())\n",
        "#remove duplicate rows if any\n",
        "transactions_df.drop_duplicates(inplace = True)\n",
        "print(\"Duplicate rows after removal:\", transactions_df.duplicated().sum())\n",
        "\n",
        "# Correct datetime\n",
        "transactions_df['date'] = pd.to_datetime(transactions_df['date'])\n",
        "customers_df['signup_date'] = pd.to_datetime(customers_df['signup_date'])\n",
        "\n",
        "#calculate amount\n",
        "transactions_df['amount'] = transactions_df['quantity'] * transactions_df['unit_price'] * (1-transactions_df['discount_applied'])"
      ],
      "metadata": {
        "id": "cNAraGSPflHI"
      },
      "execution_count": null,
      "outputs": []
    },
    {
      "cell_type": "markdown",
      "source": [
        "Summarizing key metrics and patterns discovered"
      ],
      "metadata": {
        "id": "4Vr36AOPgcMG"
      }
    },
    {
      "cell_type": "code",
      "source": [
        "# ------ Summary Statistics & Patterns ------\n",
        "print(\"\\n--- Customers Data Summary Statistics ---\")\n",
        "print(customers_df.describe(include = 'all'))\n",
        "\n",
        "print(\"\\n--- Transactions Data Summary Statistics ---\")\n",
        "print(transactions_df.describe(include='all'))"
      ],
      "metadata": {
        "id": "7lhqhlgTglbr"
      },
      "execution_count": null,
      "outputs": []
    },
    {
      "cell_type": "markdown",
      "source": [
        "**Documenting any assumptions and decisions made during the process**\n",
        "**Assumptions**\n",
        "\n",
        "---\n",
        "\n",
        "\n",
        "Data loaded is the correct data and reflects the real values.\n",
        "\n",
        "Missing data in age group can be replaced by an \"Unknown\" category for analysis.\n",
        "\n",
        "Calculation of amount based on quantity, unit price and discounts is correct.\n",
        "\n",
        "**Decisions**\n",
        "\n",
        "---\n",
        "\n",
        "\n",
        "Removed duplicate transactions using drop_duplicates.\n",
        "\n",
        "Converted relevant date features to datetime objects.\n",
        "\n",
        "Kept all missing values and addressed it using filling in later steps.\n",
        "\n",
        "\n",
        "\n",
        "\n",
        "\n"
      ],
      "metadata": {
        "id": "8GcK6J1ug3Zn"
      }
    },
    {
      "cell_type": "markdown",
      "source": [
        "# **Part 2: Customer Analysis**\n",
        "Developing a customer segmentation approach using the available data and creating at least one visualization that reveals meaningful insights about the customer segments"
      ],
      "metadata": {
        "id": "cTJQYf-AjAuD"
      }
    },
    {
      "cell_type": "code",
      "source": [
        "import pandas as pd\n",
        "import numpy as np\n",
        "import matplotlib.pyplot as plt\n",
        "import seaborn as sns\n",
        "from sklearn.cluster import KMeans\n",
        "from sklearn.preprocessing import StandardScaler\n",
        "from sklearn.preprocessing import LabelEncoder\n",
        "\n",
        "# Load the datasets\n",
        "customers_df = pd.read_csv(\"customers.csv\")\n",
        "transactions_df = pd.read_csv(\"transactions.csv\")\n",
        "\n",
        "# Correct datetime\n",
        "transactions_df['date'] = pd.to_datetime(transactions_df['date'])\n",
        "customers_df['signup_date'] = pd.to_datetime(customers_df['signup_date'])\n",
        "\n",
        "#calculate amount\n",
        "transactions_df['amount'] = transactions_df['quantity'] * transactions_df['unit_price'] * (1-transactions_df['discount_applied'])\n",
        "\n",
        "# Calculate customer spend\n",
        "customer_spend = transactions_df.groupby('customer_id')['amount'].sum().reset_index()\n",
        "customer_spend.rename(columns={'amount': 'total_spend'}, inplace=True)\n",
        "\n",
        "# Calculate purchase frequency per customer\n",
        "customer_frequency = transactions_df.groupby('customer_id').size().reset_index(name='purchase_frequency')\n",
        "\n",
        "# Merge customer data with their spending and transaction frequency\n",
        "customer_data = pd.merge(customers_df, customer_spend, on='customer_id', how='left')\n",
        "customer_data = pd.merge(customer_data, customer_frequency, on='customer_id', how='left')\n",
        "\n",
        "# --- Customer Segmentation ---\n",
        "#Encode age group label\n",
        "label_encoder = LabelEncoder()\n",
        "customer_data['age_group_encoded'] = label_encoder.fit_transform(customer_data['age_group'].fillna('Unknown')) #fill na as another category for label encoding\n",
        "\n",
        "# Scale the Data (age, income, purchase_frequency and total spend)\n",
        "scaler = StandardScaler()\n",
        "# One hot encode country and subscription type\n",
        "customer_data = pd.get_dummies(customer_data, columns = ['country', 'subscription_type'], drop_first = True)\n",
        "customer_scaled = scaler.fit_transform(customer_data[['age_group_encoded', 'total_spend', 'purchase_frequency', 'country_UK', 'country_FR',  'country_ES', 'subscription_type_premium', 'subscription_type_enterprise']])\n",
        "\n",
        "# --- Perform KMeans Clustering to get customer segments ---\n",
        "# Assuming 3 customer segments - this can be tuned further using methods like elbow method\n",
        "kmeans = KMeans(n_clusters=3, random_state=42)\n",
        "customer_data['segment'] = kmeans.fit_predict(customer_scaled) # Assign segments to the customer_data DataFrame\n",
        "\n",
        "# --- CLV Calculation ---\n",
        "# CLV = (Avg Purchase Value * Purchase Frequency) * (Avg Customer Lifespan in months), using an assumed 36 month life span\n",
        "customer_data['average_purchase_value'] = customer_data['total_spend'] / customer_data['purchase_frequency']\n",
        "customer_data['average_purchase_value'].fillna(0, inplace=True)\n",
        "customer_data['customer_lifetime_value'] = customer_data['average_purchase_value'] * customer_data['purchase_frequency'] * 36\n",
        "\n",
        "# --- Visualization ---\n",
        "\n",
        "# Bar chart to show CLV distribution per Segment\n",
        "segment_clv = customer_data.groupby('segment')['customer_lifetime_value'].mean().reset_index()\n",
        "plt.figure(figsize=(10, 6))\n",
        "sns.barplot(x='segment', y='customer_lifetime_value', data=segment_clv)\n",
        "plt.title('Customer Lifetime Value Distribution by Segment (Mean)')\n",
        "plt.xlabel('Customer Segment')\n",
        "plt.ylabel('Average Customer Lifetime Value')\n",
        "plt.show()\n",
        "\n",
        "# Bar chart to show customer segments per country\n",
        "# Group by the one-hot encoded country columns instead of the original 'country' column\n",
        "segment_country = customer_data.groupby(['country_US', 'country_UK', 'country_FR', 'country_ES', 'segment']).size().reset_index()\n",
        "\n",
        "# Rename the one-hot encoded columns back to 'country' for plotting\n",
        "segment_country['country'] = segment_country[['country_US', 'country_UK', 'country_FR', 'country_ES']].idxmax(axis=1).str.replace('country_', '')\n",
        "\n",
        "# Aggregate the counts for each country and segment\n",
        "segment_country = segment_country.groupby(['country', 'segment'])[0].sum().unstack(fill_value=0)\n",
        "\n",
        "# Plot the bar chart\n",
        "plt.figure(figsize=(10, 6))\n",
        "segment_country.plot(kind='bar', stacked=True)\n",
        "plt.title('Customer Segments per Country')\n",
        "plt.xlabel('Country')\n",
        "plt.ylabel('Number of Customers')\n",
        "plt.xticks(rotation=45)\n",
        "plt.show()"
      ],
      "metadata": {
        "colab": {
          "base_uri": "https://localhost:8080/",
          "height": 1000
        },
        "id": "BZW3M89vlWGQ",
        "outputId": "24b10b95-59aa-4881-c11d-3939b005755e"
      },
      "execution_count": 9,
      "outputs": [
        {
          "output_type": "stream",
          "name": "stderr",
          "text": [
            "<ipython-input-9-08f46d4d4199>:50: FutureWarning: A value is trying to be set on a copy of a DataFrame or Series through chained assignment using an inplace method.\n",
            "The behavior will change in pandas 3.0. This inplace method will never work because the intermediate object on which we are setting values always behaves as a copy.\n",
            "\n",
            "For example, when doing 'df[col].method(value, inplace=True)', try using 'df.method({col: value}, inplace=True)' or df[col] = df[col].method(value) instead, to perform the operation inplace on the original object.\n",
            "\n",
            "\n",
            "  customer_data['average_purchase_value'].fillna(0, inplace=True)\n"
          ]
        },
        {
          "output_type": "display_data",
          "data": {
            "text/plain": [
              "<Figure size 1000x600 with 1 Axes>"
            ],
            "image/png": "[encoded data removed]"
          },
          "metadata": {}
        },
        {
          "output_type": "display_data",
          "data": {
            "text/plain": [
              "<Figure size 1000x600 with 0 Axes>"
            ]
          },
          "metadata": {}
        },
        {
          "output_type": "display_data",
          "data": {
            "text/plain": [
              "<Figure size 640x480 with 1 Axes>"
            ],
            "image/png": "[encoded data removed]"
          },
          "metadata": {}
        }
      ]
    },
    {
      "cell_type": "markdown",
      "source": [
        "**Writing a brief (2-3 paragraphs) summary of my findings for business stakeholders**\n",
        "\n",
        "The analysis of our customer base reveals three distinct customer segments with varying characteristics and value. We used K-means clustering based on scaled values of age, spend, purchase frequency, and geographical location. Customer lifetime value (CLV) was then calculated for each customer to understand their long term value.\n",
        "\n",
        "Segment 0 customers have the lowest CLV, and the lowest spend and purchase frequency. They tend to be younger customers as indicated by the lower age_group_encoded average. Segment 1 customers have the highest CLV, the highest spend and purchase frequency, and are generally in the middle of the age group spectrum. Finally, segment 2 customers have mid range values for CLV, spend and purchase frequency, and are the oldest age group, on average. It is also important to note that most customers are located in the US, irrespective of the segments.\n",
        "\n",
        "These findings provide insights into how we can improve customer retention and engagement. We can offer targeted promotions to segment 0 to move them into higher segments, and we can work on further engaging segment 1, to maximize their value. We can also further explore differences in preferences and behaviours by country."
      ],
      "metadata": {
        "id": "-3r-8U32ryy8"
      }
    },
    {
      "cell_type": "markdown",
      "source": [
        "# **Part 3: Sales Performance Analysis**\n",
        "Ensuring date columns are in the correct format, calculate amount, and prepare data for analysis."
      ],
      "metadata": {
        "id": "i-A9Cr77sMM3"
      }
    },
    {
      "cell_type": "code",
      "source": [
        "import pandas as pd\n",
        "import numpy as np\n",
        "import matplotlib.pyplot as plt\n",
        "import seaborn as sns\n",
        "\n",
        "# Load the datasets\n",
        "customers_df = pd.read_csv(\"customers.csv\")\n",
        "transactions_df = pd.read_csv(\"transactions.csv\")\n",
        "\n",
        "# Correct datetime\n",
        "transactions_df['date'] = pd.to_datetime(transactions_df['date'])\n",
        "customers_df['signup_date'] = pd.to_datetime(customers_df['signup_date'])\n",
        "\n",
        "#calculate amount\n",
        "transactions_df['amount'] = transactions_df['quantity'] * transactions_df['unit_price'] * (1-transactions_df['discount_applied'])"
      ],
      "metadata": {
        "id": "8f4I953RtFqM"
      },
      "execution_count": null,
      "outputs": []
    },
    {
      "cell_type": "markdown",
      "source": [
        "## Data generation"
      ],
      "metadata": {
        "id": "gTwim9-b7_xL"
      }
    },
    {
      "cell_type": "code",
      "source": [
        "%%capture\n",
        "\n",
        "import pandas as pd\n",
        "import numpy as np\n",
        "from datetime import datetime, timedelta\n",
        "\n",
        "def generate_test_data(seed=42):\n",
        "    \"\"\"\n",
        "    Generates a realistic e-commerce dataset with some intentional data quality issues\n",
        "    that good candidates should identify and handle appropriately.\n",
        "    \"\"\"\n",
        "    np.random.seed(seed)\n",
        "\n",
        "    # Generate dates\n",
        "    base = datetime(2023, 1, 1)\n",
        "    dates = [base + timedelta(days=x) for x in range(365)]\n",
        "\n",
        "    # Create customer data with various patterns and issues\n",
        "    n_customers = 1000\n",
        "    customers = pd.DataFrame({\n",
        "        'customer_id': range(1, n_customers + 1),\n",
        "        'signup_date': [base + timedelta(days=np.random.randint(0, 365)) for _ in range(n_customers)],\n",
        "        'country': np.random.choice(['US', 'UK', 'FR', 'DE', 'ES'], n_customers, p=[0.4, 0.25, 0.15, 0.1, 0.1]),\n",
        "        'age_group': np.random.choice(['18-25', '26-35', '36-50', '50+', None], n_customers, p=[0.2, 0.35, 0.25, 0.15, 0.05]),\n",
        "        'subscription_type': np.random.choice(['basic', 'premium', 'enterprise'], n_customers, p=[0.5, 0.3, 0.2])\n",
        "    })\n",
        "\n",
        "    # Create transaction data with seasonal patterns and anomalies\n",
        "    n_transactions = 50000\n",
        "    transactions = pd.DataFrame({\n",
        "        'transaction_id': range(1, n_transactions + 1),\n",
        "        'customer_id': np.random.choice(customers['customer_id'], n_transactions),\n",
        "        'date': np.random.choice(dates, n_transactions),\n",
        "        'product_id': np.random.choice(range(1, 101), n_transactions),\n",
        "        'quantity': np.random.randint(1, 10, n_transactions),\n",
        "        'unit_price': np.random.uniform(10, 1000, n_transactions).round(2),\n",
        "        'discount_applied': np.random.choice([0, 0.1, 0.2, 0.3], n_transactions, p=[0.7, 0.15, 0.1, 0.05])\n",
        "    })\n",
        "\n",
        "    # Add some duplicate transactions and missing values\n",
        "    dupes = transactions.sample(n=100).copy()\n",
        "    dupes['transaction_id'] = list(range(transactions['transaction_id'].max() + 1,\n",
        "                                       transactions['transaction_id'].max() + 101))\n",
        "    transactions = pd.concat([transactions, dupes])\n",
        "\n",
        "    # Introduce some inconsistencies in pricing\n",
        "    mask = transactions['product_id'].isin(np.random.choice(range(1, 101), 10))\n",
        "    transactions.loc[mask, 'unit_price'] *= 100  # Some unusual price points\n",
        "\n",
        "    return customers, transactions\n",
        "\n",
        "# Generate and save the data\n",
        "customers, transactions = generate_test_data()\n",
        "customers.to_csv('customers.csv', index=False)\n",
        "transactions.to_csv('transactions.csv', index=False)"
      ],
      "metadata": {
        "id": "6yK5nM9c5xMI"
      },
      "execution_count": 2,
      "outputs": []
    }
  ]
}